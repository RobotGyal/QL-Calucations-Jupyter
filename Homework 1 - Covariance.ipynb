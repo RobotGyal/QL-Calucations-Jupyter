{
 "cells": [
  {
   "cell_type": "markdown",
   "metadata": {},
   "source": [
    "# Homework 1 - Covariance Matrix"
   ]
  },
  {
   "cell_type": "markdown",
   "metadata": {},
   "source": [
    "## Steps\n",
    "* Get / Make a dataset to test √\n",
    "* Be able to pull all values and put into their own variable √\n",
    "* Write formula to find mean, sum, variance, and covariance √\n",
    "* Calculate and store diffrerent covariances √\n",
    "* Figure how to put in a matrix"
   ]
  },
  {
   "cell_type": "code",
   "execution_count": 139,
   "metadata": {},
   "outputs": [],
   "source": [
    "import numpy as np\n",
    "\n",
    "dataset = np.array([(1, 3, 1), (2, 2, 1), (3, 1, 2), (4, 1, 2)])"
   ]
  },
  {
   "cell_type": "markdown",
   "metadata": {},
   "source": [
    "## Data"
   ]
  },
  {
   "cell_type": "code",
   "execution_count": 140,
   "metadata": {},
   "outputs": [
    {
     "name": "stdout",
     "output_type": "stream",
     "text": [
      "Dataset: \n",
      " [[1 3 1]\n",
      " [2 2 1]\n",
      " [3 1 2]\n",
      " [4 1 2]]\n",
      "\n",
      "Columns from matrix:\n",
      "X: [1 2 3 4]\n",
      "Y: [3 2 1 1]\n",
      "Z: [1 1 2 2]\n"
     ]
    }
   ],
   "source": [
    "# Getting entire row of coordinates from matrix\n",
    "X = dataset[:,0]\n",
    "Y = dataset[:,1]\n",
    "Z = dataset[:,2]\n",
    "\n",
    "\n",
    "print(\"Dataset: \\n\", dataset)\n",
    "print(\"\\nColumns from matrix:\")\n",
    "print(\"X:\", X)\n",
    "print(\"Y:\", Y)\n",
    "print(\"Z:\", Z)"
   ]
  },
  {
   "cell_type": "markdown",
   "metadata": {},
   "source": [
    "## Formulas"
   ]
  },
  {
   "cell_type": "code",
   "execution_count": 186,
   "metadata": {},
   "outputs": [],
   "source": [
    "# Variance\n",
    "# sum of ((all values - mean)^2) /(total items - 1)\n",
    "\n",
    "\n",
    "# My variance\n",
    "def variance(data, name):\n",
    "    print(f\"Data For {name} Values\".format(name))\n",
    "    all_squared = []\n",
    "    databar = np.mean(data)\n",
    "    print(\"Mean :\", databar)\n",
    "    for i in data:\n",
    "        datai = i\n",
    "        difference = (datai - databar)\n",
    "        squared = difference**2\n",
    "        all_squared.append(squared)\n",
    "\n",
    "#         print(\"\\nData Point: \", datai)\n",
    "#         print(\"Difference from the mean:\", difference)\n",
    "#         print(\"Squared: \", squared)\n",
    "\n",
    "#     print(\"\\nAll squared values: \",all_squared)\n",
    "    nominator = np.sum(all_squared)\n",
    "#     print(\"\\nthe nominator: \", nominator)\n",
    "    variance = nominator / (len(data)-1)\n",
    "    print(\"The variance: \")\n",
    "    return variance\n",
    "\n",
    "# Covariance\n",
    "def covariance(data1, data2, name1, name2):\n",
    "    print(f\"Covariance ({name1},{name2})\".format(name1, name2))\n",
    "    data1bar = np.mean(data1)\n",
    "    data2bar = np.mean(data2)\n",
    "    all_products = []\n",
    "#     print(\"Mean of Data 1:\", data1bar)\n",
    "#     print(\"Mean of Data 2:\", data2bar)\n",
    "    for i in data1:\n",
    "        data1i = i\n",
    "        data2i = data2[i-1]\n",
    "        difference1 = (data1i - data1bar)\n",
    "        difference2 = (data2i - data2bar)\n",
    "        product = difference1 * difference2\n",
    "        all_products.append(product)\n",
    "\n",
    "#         print(f\"\\nData Point: {data1i},{data2i}\".format(data1i, data2i))\n",
    "#         print(f\"{name1} Difference from the mean:\".format(), difference1)\n",
    "#         print(f\"{name2} Difference from the mean:\".format(), difference2)\n",
    "#         print(\"Products\", product)\n",
    "    \n",
    "    \n",
    "#     print(\"\\nAll products: \", all_products)\n",
    "    nominator = np.sum(all_products)\n",
    "#     print(\"\\nThe Nominator: \", nominator)\n",
    "    covariance = nominator / (len(data1)-1)\n",
    "    return covariance\n",
    "\n",
    "    \n",
    "# print(\"\\nMy covariance: \", covariance(X, Y, \"X\", \"Y\"))\n",
    "# cov = np.cov(X,Y)\n",
    "# print(\"Numpy covariance: \", cov[0,1])\n"
   ]
  },
  {
   "cell_type": "markdown",
   "metadata": {},
   "source": [
    "## Calculations"
   ]
  },
  {
   "cell_type": "code",
   "execution_count": 193,
   "metadata": {},
   "outputs": [
    {
     "name": "stdout",
     "output_type": "stream",
     "text": [
      "Data For X Values\n",
      "Mean : 2.5\n",
      "The variance: \n",
      "1.6666666666666667 \n",
      "\n",
      "Data For Y Values\n",
      "Mean : 1.75\n",
      "The variance: \n",
      "0.9166666666666666 \n",
      "\n",
      "Data For Z Values\n",
      "Mean : 1.5\n",
      "The variance: \n",
      "0.3333333333333333 \n",
      "\n",
      "\n",
      "Covariance (X,X)\n",
      "1.6666666666666667 \n",
      "\n",
      "Covariance (X,Y)\n",
      "-1.1666666666666667 \n",
      "\n",
      "Covariance (X,Z)\n",
      "0.6666666666666666 \n",
      "\n",
      "Covariance (Y,X)\n",
      "0.9166666666666666 \n",
      "\n",
      "Covariance (Y,Y)\n",
      "-0.9166666666666666 \n",
      "\n",
      "Covariance (Y,Z)\n",
      "0.4166666666666667 \n",
      "\n",
      "Covariance (Z,X)\n",
      "0.3333333333333333 \n",
      "\n",
      "Covariance (Z,Y)\n",
      "-0.3333333333333333 \n",
      "\n",
      "Covariance (Z,Z)\n",
      "0.0 \n",
      "\n"
     ]
    }
   ],
   "source": [
    "# VARIANCE \n",
    "\n",
    "#My Variance function\n",
    "print(variance(X, \"X\"),'\\n')\n",
    "    # Built in Variance\n",
    "    # print(\"\\nNumpy Variance: \",np.var(X))\n",
    "#My Variance function\n",
    "print(variance(Y, \"Y\"),'\\n')\n",
    "    # Built in Variance\n",
    "    # print(\"\\nNumpy Variance: \",np.var(Y))\n",
    "#My Variance function\n",
    "print(variance(Z, \"Z\"),'\\n\\n')\n",
    "    # Built in Variance\n",
    "    # print(\"\\nNumpy Variance: \",np.var(Z))\n",
    "\n",
    "\n",
    "# COVARIANCE\n",
    "print(covariance(X, X, \"X\", \"X\"),'\\n')\n",
    "print(covariance(X, Y, \"X\", \"Y\"),'\\n')\n",
    "print(covariance(X, Z, \"X\", \"Z\"),'\\n')\n",
    "print(covariance(Y, X, \"Y\", \"X\"),'\\n')\n",
    "print(covariance(Y, Y, \"Y\", \"Y\"),'\\n')\n",
    "print(covariance(Y, Z, \"Y\", \"Z\"),'\\n')\n",
    "print(covariance(Z, X, \"Z\", \"X\"),'\\n')\n",
    "print(covariance(Z, Y, \"Z\", \"Y\"),'\\n')\n",
    "print(covariance(Z, Z, \"Z\", \"Z\"),'\\n')"
   ]
  },
  {
   "cell_type": "markdown",
   "metadata": {},
   "source": [
    "# Application"
   ]
  },
  {
   "cell_type": "code",
   "execution_count": 214,
   "metadata": {},
   "outputs": [
    {
     "ename": "IndexError",
     "evalue": "single positional indexer is out-of-bounds",
     "output_type": "error",
     "traceback": [
      "\u001b[0;31m-----------------------------------------------------------------------\u001b[0m",
      "\u001b[0;31mIndexError\u001b[0m                            Traceback (most recent call last)",
      "\u001b[0;32m<ipython-input-214-52d9c8c2dc59>\u001b[0m in \u001b[0;36m<module>\u001b[0;34m\u001b[0m\n\u001b[1;32m      9\u001b[0m \u001b[0my\u001b[0m \u001b[0;34m=\u001b[0m \u001b[0mrandom\u001b[0m\u001b[0;34m.\u001b[0m\u001b[0mrandint\u001b[0m\u001b[0;34m(\u001b[0m\u001b[0;36m2\u001b[0m\u001b[0;34m,\u001b[0m \u001b[0;36m9564\u001b[0m\u001b[0;34m)\u001b[0m\u001b[0;34m\u001b[0m\u001b[0;34m\u001b[0m\u001b[0m\n\u001b[1;32m     10\u001b[0m \u001b[0mz\u001b[0m \u001b[0;34m=\u001b[0m \u001b[0mrandom\u001b[0m\u001b[0;34m.\u001b[0m\u001b[0mrandint\u001b[0m\u001b[0;34m(\u001b[0m\u001b[0;36m2\u001b[0m\u001b[0;34m,\u001b[0m \u001b[0;36m9564\u001b[0m\u001b[0;34m)\u001b[0m\u001b[0;34m\u001b[0m\u001b[0;34m\u001b[0m\u001b[0m\n\u001b[0;32m---> 11\u001b[0;31m \u001b[0mkeplerx\u001b[0m \u001b[0;34m=\u001b[0m \u001b[0mkepler\u001b[0m\u001b[0;34m.\u001b[0m\u001b[0miloc\u001b[0m\u001b[0;34m[\u001b[0m\u001b[0;34m:\u001b[0m\u001b[0;34m,\u001b[0m\u001b[0mint\u001b[0m\u001b[0;34m(\u001b[0m\u001b[0mx\u001b[0m\u001b[0;34m)\u001b[0m\u001b[0;34m]\u001b[0m\u001b[0;34m\u001b[0m\u001b[0;34m\u001b[0m\u001b[0m\n\u001b[0m\u001b[1;32m     12\u001b[0m \u001b[0mkeplery\u001b[0m \u001b[0;34m=\u001b[0m \u001b[0mkepler\u001b[0m\u001b[0;34m.\u001b[0m\u001b[0miloc\u001b[0m\u001b[0;34m[\u001b[0m\u001b[0;34m:\u001b[0m\u001b[0;34m,\u001b[0m\u001b[0mint\u001b[0m\u001b[0;34m(\u001b[0m\u001b[0my\u001b[0m\u001b[0;34m)\u001b[0m\u001b[0;34m]\u001b[0m\u001b[0;34m\u001b[0m\u001b[0;34m\u001b[0m\u001b[0m\n\u001b[1;32m     13\u001b[0m \u001b[0mkeplerz\u001b[0m \u001b[0;34m=\u001b[0m \u001b[0mkepler\u001b[0m\u001b[0;34m.\u001b[0m\u001b[0miloc\u001b[0m\u001b[0;34m[\u001b[0m\u001b[0;34m:\u001b[0m\u001b[0;34m,\u001b[0m\u001b[0mint\u001b[0m\u001b[0;34m(\u001b[0m\u001b[0mz\u001b[0m\u001b[0;34m)\u001b[0m\u001b[0;34m]\u001b[0m\u001b[0;34m\u001b[0m\u001b[0;34m\u001b[0m\u001b[0m\n",
      "\u001b[0;32m/usr/local/lib/python3.7/site-packages/pandas/core/indexing.py\u001b[0m in \u001b[0;36m__getitem__\u001b[0;34m(self, key)\u001b[0m\n\u001b[1;32m   1416\u001b[0m                 \u001b[0;32mexcept\u001b[0m \u001b[0;34m(\u001b[0m\u001b[0mKeyError\u001b[0m\u001b[0;34m,\u001b[0m \u001b[0mIndexError\u001b[0m\u001b[0;34m,\u001b[0m \u001b[0mAttributeError\u001b[0m\u001b[0;34m)\u001b[0m\u001b[0;34m:\u001b[0m\u001b[0;34m\u001b[0m\u001b[0;34m\u001b[0m\u001b[0m\n\u001b[1;32m   1417\u001b[0m                     \u001b[0;32mpass\u001b[0m\u001b[0;34m\u001b[0m\u001b[0;34m\u001b[0m\u001b[0m\n\u001b[0;32m-> 1418\u001b[0;31m             \u001b[0;32mreturn\u001b[0m \u001b[0mself\u001b[0m\u001b[0;34m.\u001b[0m\u001b[0m_getitem_tuple\u001b[0m\u001b[0;34m(\u001b[0m\u001b[0mkey\u001b[0m\u001b[0;34m)\u001b[0m\u001b[0;34m\u001b[0m\u001b[0;34m\u001b[0m\u001b[0m\n\u001b[0m\u001b[1;32m   1419\u001b[0m         \u001b[0;32melse\u001b[0m\u001b[0;34m:\u001b[0m\u001b[0;34m\u001b[0m\u001b[0;34m\u001b[0m\u001b[0m\n\u001b[1;32m   1420\u001b[0m             \u001b[0;31m# we by definition only have the 0th axis\u001b[0m\u001b[0;34m\u001b[0m\u001b[0;34m\u001b[0m\u001b[0;34m\u001b[0m\u001b[0m\n",
      "\u001b[0;32m/usr/local/lib/python3.7/site-packages/pandas/core/indexing.py\u001b[0m in \u001b[0;36m_getitem_tuple\u001b[0;34m(self, tup)\u001b[0m\n\u001b[1;32m   2090\u001b[0m     \u001b[0;32mdef\u001b[0m \u001b[0m_getitem_tuple\u001b[0m\u001b[0;34m(\u001b[0m\u001b[0mself\u001b[0m\u001b[0;34m,\u001b[0m \u001b[0mtup\u001b[0m\u001b[0;34m)\u001b[0m\u001b[0;34m:\u001b[0m\u001b[0;34m\u001b[0m\u001b[0;34m\u001b[0m\u001b[0m\n\u001b[1;32m   2091\u001b[0m \u001b[0;34m\u001b[0m\u001b[0m\n\u001b[0;32m-> 2092\u001b[0;31m         \u001b[0mself\u001b[0m\u001b[0;34m.\u001b[0m\u001b[0m_has_valid_tuple\u001b[0m\u001b[0;34m(\u001b[0m\u001b[0mtup\u001b[0m\u001b[0;34m)\u001b[0m\u001b[0;34m\u001b[0m\u001b[0;34m\u001b[0m\u001b[0m\n\u001b[0m\u001b[1;32m   2093\u001b[0m         \u001b[0;32mtry\u001b[0m\u001b[0;34m:\u001b[0m\u001b[0;34m\u001b[0m\u001b[0;34m\u001b[0m\u001b[0m\n\u001b[1;32m   2094\u001b[0m             \u001b[0;32mreturn\u001b[0m \u001b[0mself\u001b[0m\u001b[0;34m.\u001b[0m\u001b[0m_getitem_lowerdim\u001b[0m\u001b[0;34m(\u001b[0m\u001b[0mtup\u001b[0m\u001b[0;34m)\u001b[0m\u001b[0;34m\u001b[0m\u001b[0;34m\u001b[0m\u001b[0m\n",
      "\u001b[0;32m/usr/local/lib/python3.7/site-packages/pandas/core/indexing.py\u001b[0m in \u001b[0;36m_has_valid_tuple\u001b[0;34m(self, key)\u001b[0m\n\u001b[1;32m    233\u001b[0m                 \u001b[0;32mraise\u001b[0m \u001b[0mIndexingError\u001b[0m\u001b[0;34m(\u001b[0m\u001b[0;34m\"Too many indexers\"\u001b[0m\u001b[0;34m)\u001b[0m\u001b[0;34m\u001b[0m\u001b[0;34m\u001b[0m\u001b[0m\n\u001b[1;32m    234\u001b[0m             \u001b[0;32mtry\u001b[0m\u001b[0;34m:\u001b[0m\u001b[0;34m\u001b[0m\u001b[0;34m\u001b[0m\u001b[0m\n\u001b[0;32m--> 235\u001b[0;31m                 \u001b[0mself\u001b[0m\u001b[0;34m.\u001b[0m\u001b[0m_validate_key\u001b[0m\u001b[0;34m(\u001b[0m\u001b[0mk\u001b[0m\u001b[0;34m,\u001b[0m \u001b[0mi\u001b[0m\u001b[0;34m)\u001b[0m\u001b[0;34m\u001b[0m\u001b[0;34m\u001b[0m\u001b[0m\n\u001b[0m\u001b[1;32m    236\u001b[0m             \u001b[0;32mexcept\u001b[0m \u001b[0mValueError\u001b[0m\u001b[0;34m:\u001b[0m\u001b[0;34m\u001b[0m\u001b[0;34m\u001b[0m\u001b[0m\n\u001b[1;32m    237\u001b[0m                 raise ValueError(\n",
      "\u001b[0;32m/usr/local/lib/python3.7/site-packages/pandas/core/indexing.py\u001b[0m in \u001b[0;36m_validate_key\u001b[0;34m(self, key, axis)\u001b[0m\n\u001b[1;32m   2012\u001b[0m             \u001b[0;32mreturn\u001b[0m\u001b[0;34m\u001b[0m\u001b[0;34m\u001b[0m\u001b[0m\n\u001b[1;32m   2013\u001b[0m         \u001b[0;32melif\u001b[0m \u001b[0mis_integer\u001b[0m\u001b[0;34m(\u001b[0m\u001b[0mkey\u001b[0m\u001b[0;34m)\u001b[0m\u001b[0;34m:\u001b[0m\u001b[0;34m\u001b[0m\u001b[0;34m\u001b[0m\u001b[0m\n\u001b[0;32m-> 2014\u001b[0;31m             \u001b[0mself\u001b[0m\u001b[0;34m.\u001b[0m\u001b[0m_validate_integer\u001b[0m\u001b[0;34m(\u001b[0m\u001b[0mkey\u001b[0m\u001b[0;34m,\u001b[0m \u001b[0maxis\u001b[0m\u001b[0;34m)\u001b[0m\u001b[0;34m\u001b[0m\u001b[0;34m\u001b[0m\u001b[0m\n\u001b[0m\u001b[1;32m   2015\u001b[0m         \u001b[0;32melif\u001b[0m \u001b[0misinstance\u001b[0m\u001b[0;34m(\u001b[0m\u001b[0mkey\u001b[0m\u001b[0;34m,\u001b[0m \u001b[0mtuple\u001b[0m\u001b[0;34m)\u001b[0m\u001b[0;34m:\u001b[0m\u001b[0;34m\u001b[0m\u001b[0;34m\u001b[0m\u001b[0m\n\u001b[1;32m   2016\u001b[0m             \u001b[0;31m# a tuple should already have been caught by this point\u001b[0m\u001b[0;34m\u001b[0m\u001b[0;34m\u001b[0m\u001b[0;34m\u001b[0m\u001b[0m\n",
      "\u001b[0;32m/usr/local/lib/python3.7/site-packages/pandas/core/indexing.py\u001b[0m in \u001b[0;36m_validate_integer\u001b[0;34m(self, key, axis)\u001b[0m\n\u001b[1;32m   2086\u001b[0m         \u001b[0mlen_axis\u001b[0m \u001b[0;34m=\u001b[0m \u001b[0mlen\u001b[0m\u001b[0;34m(\u001b[0m\u001b[0mself\u001b[0m\u001b[0;34m.\u001b[0m\u001b[0mobj\u001b[0m\u001b[0;34m.\u001b[0m\u001b[0m_get_axis\u001b[0m\u001b[0;34m(\u001b[0m\u001b[0maxis\u001b[0m\u001b[0;34m)\u001b[0m\u001b[0;34m)\u001b[0m\u001b[0;34m\u001b[0m\u001b[0;34m\u001b[0m\u001b[0m\n\u001b[1;32m   2087\u001b[0m         \u001b[0;32mif\u001b[0m \u001b[0mkey\u001b[0m \u001b[0;34m>=\u001b[0m \u001b[0mlen_axis\u001b[0m \u001b[0;32mor\u001b[0m \u001b[0mkey\u001b[0m \u001b[0;34m<\u001b[0m \u001b[0;34m-\u001b[0m\u001b[0mlen_axis\u001b[0m\u001b[0;34m:\u001b[0m\u001b[0;34m\u001b[0m\u001b[0;34m\u001b[0m\u001b[0m\n\u001b[0;32m-> 2088\u001b[0;31m             \u001b[0;32mraise\u001b[0m \u001b[0mIndexError\u001b[0m\u001b[0;34m(\u001b[0m\u001b[0;34m\"single positional indexer is out-of-bounds\"\u001b[0m\u001b[0;34m)\u001b[0m\u001b[0;34m\u001b[0m\u001b[0;34m\u001b[0m\u001b[0m\n\u001b[0m\u001b[1;32m   2089\u001b[0m \u001b[0;34m\u001b[0m\u001b[0m\n\u001b[1;32m   2090\u001b[0m     \u001b[0;32mdef\u001b[0m \u001b[0m_getitem_tuple\u001b[0m\u001b[0;34m(\u001b[0m\u001b[0mself\u001b[0m\u001b[0;34m,\u001b[0m \u001b[0mtup\u001b[0m\u001b[0;34m)\u001b[0m\u001b[0;34m:\u001b[0m\u001b[0;34m\u001b[0m\u001b[0;34m\u001b[0m\u001b[0m\n",
      "\u001b[0;31mIndexError\u001b[0m: single positional indexer is out-of-bounds"
     ]
    }
   ],
   "source": [
    "import pandas as pd\n",
    "import random\n",
    "\n",
    "kepler = pd.read_csv(\"kepler.csv\", delimiter =',')\n",
    "# print(kepler.head(5))\n",
    "# print(kepler[0],[0])\n",
    "# print(kepler.iloc[:,10])\n",
    "x = random.randint(2, 9564)\n",
    "y = random.randint(2, 9564)\n",
    "z = random.randint(2, 9564)\n",
    "keplerX = kepler.iloc[:,x]\n",
    "keplerY = kepler.iloc[:,y]\n",
    "keplerZ = kepler.iloc[:,z]\n",
    "\n",
    "\n",
    "# VARIANCE \n",
    "print(variance(keplerX, \"keplerX\"),'\\n')\n",
    "print(variance(keplerY, \"keplerY\"),'\\n')\n",
    "print(variance(keplerZ, \"keplerZ\"),'\\n\\n')\n",
    "\n",
    "# COVARIANCE\n",
    "print(covariance(keplerX, keplerX, \"X\", \"X\"),'\\n')\n",
    "print(covariance(keplerX, keplerY, \"X\", \"Y\"),'\\n')\n",
    "print(covariance(keplerX, keplerZ, \"X\", \"Z\"),'\\n')\n",
    "print(covariance(keplerY, keplerX, \"Y\", \"X\"),'\\n')\n",
    "print(covariance(keplerY, keplerY, \"Y\", \"Y\"),'\\n')\n",
    "print(covariance(keplerY, keplerZ, \"Y\", \"Z\"),'\\n')\n",
    "print(covariance(keplerZ, keplerX, \"Z\", \"X\"),'\\n')\n",
    "print(covariance(keplerZ, keplerY, \"Z\", \"Y\"),'\\n')\n",
    "print(covariance(keplerZ, keplerZ, \"Z\", \"Z\"),'\\n')"
   ]
  },
  {
   "cell_type": "code",
   "execution_count": null,
   "metadata": {},
   "outputs": [],
   "source": []
  },
  {
   "cell_type": "code",
   "execution_count": null,
   "metadata": {},
   "outputs": [],
   "source": []
  }
 ],
 "metadata": {
  "kernelspec": {
   "display_name": "Python 3",
   "language": "python",
   "name": "python3"
  },
  "language_info": {
   "codemirror_mode": {
    "name": "ipython",
    "version": 3
   },
   "file_extension": ".py",
   "mimetype": "text/x-python",
   "name": "python",
   "nbconvert_exporter": "python",
   "pygments_lexer": "ipython3",
   "version": "3.7.4"
  }
 },
 "nbformat": 4,
 "nbformat_minor": 2
}
