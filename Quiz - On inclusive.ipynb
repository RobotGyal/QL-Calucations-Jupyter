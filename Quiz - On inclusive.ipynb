{
 "cells": [
  {
   "cell_type": "code",
   "execution_count": 16,
   "metadata": {},
   "outputs": [
    {
     "name": "stdout",
     "output_type": "stream",
     "text": [
      "Number higher than 2 and lower than 3 is:  2\n"
     ]
    }
   ],
   "source": [
    "ls = [1, 2, 3, 4]\n",
    "\n",
    "\n",
    "def count_lower_upper(ls, lower, upper):\n",
    "    count = 0\n",
    "    for i in ls:\n",
    "        if i >= lower and i <=upper:\n",
    "            count +=1\n",
    "    print(f\"Number higher than {lower} and lower than {upper} is: \".format(), count)\n",
    "            \n",
    "#greater than or equal to 2 and lower or equal to 3\n",
    "count_lower_upper(ls, 2, 3)"
   ]
  },
  {
   "cell_type": "code",
   "execution_count": null,
   "metadata": {},
   "outputs": [],
   "source": []
  }
 ],
 "metadata": {
  "kernelspec": {
   "display_name": "Python 3",
   "language": "python",
   "name": "python3"
  },
  "language_info": {
   "codemirror_mode": {
    "name": "ipython",
    "version": 3
   },
   "file_extension": ".py",
   "mimetype": "text/x-python",
   "name": "python",
   "nbconvert_exporter": "python",
   "pygments_lexer": "ipython3",
   "version": "3.7.4"
  }
 },
 "nbformat": 4,
 "nbformat_minor": 2
}
