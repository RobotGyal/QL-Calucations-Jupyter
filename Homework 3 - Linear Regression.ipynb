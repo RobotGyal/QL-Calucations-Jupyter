{
 "cells": [
  {
   "cell_type": "markdown",
   "metadata": {},
   "source": [
    "# R-Squared for Linear Regression"
   ]
  },
  {
   "cell_type": "markdown",
   "metadata": {},
   "source": [
    "## Steps\n",
    "* find x_bar and y_bar √\n",
    "* find y_pred √\n",
    "* find SSres √\n",
    "* find SSreg √\n",
    "* find SStot √\n",
    "* find Rsquared √"
   ]
  },
  {
   "cell_type": "code",
   "execution_count": 12,
   "metadata": {},
   "outputs": [
    {
     "data": {
      "text/plain": [
       "Text(0, 0.5, 'Water Drinks (Litre)')"
      ]
     },
     "execution_count": 12,
     "metadata": {},
     "output_type": "execute_result"
    },
    {
     "data": {
      "image/png": "[encoded data removed]",
      "text/plain": [
       "<Figure size 432x288 with 1 Axes>"
      ]
     },
     "metadata": {
      "needs_background": "light"
     },
     "output_type": "display_data"
    }
   ],
   "source": [
    "import numpy as np\n",
    "import matplotlib.pyplot as plt\n",
    "\n",
    "# Running dataset - Distance in Mile\n",
    "x = np.array([3.3,4.4,5.5,6.71,6.93,4.168,9.779,6.182,7.59,2.167,\n",
    "                         7.042,10.791,5.313,7.997,5.654,9.27,3.1])\n",
    "\n",
    "# Water dataset -  Drinks in Litre\n",
    "y = np.array([1.7,2.76,2.09,3.19,1.694,1.573,3.366,2.596,2.53,1.221,\n",
    "                         2.827,3.465,1.65,2.904,2.42,2.94,1.3])\n",
    "\n",
    "w_1 = 0.25163494\n",
    "w_0 = 0.79880123\n",
    "\n",
    "plt.scatter(x, y)\n",
    "plt.xlabel('Running Distance (Mile)')\n",
    "plt.ylabel('Water Drinks (Litre)')"
   ]
  },
  {
   "cell_type": "markdown",
   "metadata": {},
   "source": [
    "## Formulas"
   ]
  },
  {
   "cell_type": "code",
   "execution_count": 53,
   "metadata": {},
   "outputs": [
    {
     "name": "stdout",
     "output_type": "stream",
     "text": [
      "X mean is 6.229 and Y mean is 2.366\n",
      "\n",
      "[1.7   2.76  2.09  3.19  1.694 1.573 3.366 2.596 2.53  1.221 2.827 3.465\n",
      " 1.65  2.904 2.42  2.94  1.3  ]\n",
      "Y predictions are:  [1.629196532, 1.905994966, 2.1827934, 2.4872716774, 2.5426313642, 1.84761565992, 3.25953930826, 2.3544084290800003, 2.7087104245999996, 1.34409414498, 2.57081447748, 3.51419386754, 2.13573766622, 2.81112584518, 2.2215451807599997, 3.1314571237999997, 1.578869544]\n",
      "\n",
      "Sum of squares residual:  2.615580458712498\n",
      "\n",
      "Sum of squares regression:  5.900787340207778\n",
      "\n",
      "Sum of squares total:  8.516367999999998\n",
      "\n",
      "R-squared is:  0.6928760642198061\n"
     ]
    }
   ],
   "source": [
    "# Mean\n",
    "x_bar = np.round(np.mean(x), 3)\n",
    "y_bar = np.round(np.mean(y), 3)\n",
    "print(f\"X mean is {x_bar} and Y mean is {y_bar}\\n\".format())\n",
    "\n",
    "# Y pred\n",
    "print(y)\n",
    "y_pred = [w_1*i+w_0 for i in x]\n",
    "print(\"Y predictions are: \", y_pred)\n",
    "\n",
    "# SS res\n",
    "SSres = sum((y-y_pred)**2)\n",
    "print(\"\\nSum of squares residual: \", SSres)\n",
    "\n",
    "# SS reg\n",
    "SSreg = sum((y_pred-y_bar)**2)\n",
    "print(\"\\nSum of squares regression: \", SSreg)\n",
    "\n",
    "# SS tot\n",
    "SStot = sum((y-y_bar)**2)\n",
    "print(\"\\nSum of squares total: \", SStot)\n",
    "\n",
    "# R-squared\n",
    "r_squared = 1 - (SSres/SStot)\n",
    "print(\"\\nR-squared is: \", r_squared)"
   ]
  },
  {
   "cell_type": "markdown",
   "metadata": {},
   "source": [
    "## As a function"
   ]
  },
  {
   "cell_type": "code",
   "execution_count": 68,
   "metadata": {},
   "outputs": [
    {
     "name": "stdout",
     "output_type": "stream",
     "text": [
      "R-Squared is:  0.692876030278359\n"
     ]
    },
    {
     "data": {
      "text/plain": [
       "[<matplotlib.lines.Line2D at 0x123bd5910>]"
      ]
     },
     "execution_count": 68,
     "metadata": {},
     "output_type": "execute_result"
    },
    {
     "data": {
      "image/png": "[encoded data removed]",
      "text/plain": [
       "<Figure size 432x288 with 1 Axes>"
      ]
     },
     "metadata": {
      "needs_background": "light"
     },
     "output_type": "display_data"
    }
   ],
   "source": [
    "def r_sq(x, y, w1, w0):\n",
    "    x_bar = np.mean(x)\n",
    "    y_bar = np.mean(y)\n",
    "    y_pred = [w_1*i+w_0 for i in x]\n",
    "    SSres = sum((y-y_pred)**2)\n",
    "    SSreg = sum((y_pred-y_bar)**2)\n",
    "    SStot = sum((y-y_bar)**2)\n",
    "    r_squared = 1 - (SSres/SStot)\n",
    "    return r_squared\n",
    "\n",
    "print(\"R-Squared is: \", r_sq(x, y, 0.25163494, 0.79880123))\n",
    "plt.scatter(x, y)\n",
    "plt.plot(x, y_pred, 'co-')"
   ]
  },
  {
   "cell_type": "markdown",
   "metadata": {},
   "source": [
    "## Verification"
   ]
  },
  {
   "cell_type": "code",
   "execution_count": 58,
   "metadata": {},
   "outputs": [
    {
     "name": "stdout",
     "output_type": "stream",
     "text": [
      "r-squared: 0.6928760302783604\n"
     ]
    }
   ],
   "source": [
    "# Verify that your function works correctly\n",
    "\n",
    "from scipy import stats\n",
    "\n",
    "slope, intercept, r_value, p_value, std_err = stats.linregress(x, y)\n",
    "\n",
    "print(\"r-squared:\", r_value**2)"
   ]
  },
  {
   "cell_type": "code",
   "execution_count": null,
   "metadata": {},
   "outputs": [],
   "source": []
  }
 ],
 "metadata": {
  "kernelspec": {
   "display_name": "Python 3",
   "language": "python",
   "name": "python3"
  },
  "language_info": {
   "codemirror_mode": {
    "name": "ipython",
    "version": 3
   },
   "file_extension": ".py",
   "mimetype": "text/x-python",
   "name": "python",
   "nbconvert_exporter": "python",
   "pygments_lexer": "ipython3",
   "version": "3.7.4"
  }
 },
 "nbformat": 4,
 "nbformat_minor": 2
}
