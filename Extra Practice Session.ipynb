{
 "cells": [
  {
   "cell_type": "markdown",
   "metadata": {},
   "source": [
    "## LISTS"
   ]
  },
  {
   "cell_type": "code",
   "execution_count": 46,
   "metadata": {},
   "outputs": [],
   "source": [
    "a = [1, 2, 3]\n",
    "b = [10, 15, 20]\n",
    "c = [2, 49, 122, 567, 54, 1]"
   ]
  },
  {
   "cell_type": "markdown",
   "metadata": {},
   "source": [
    "## Element-wise Addition"
   ]
  },
  {
   "cell_type": "code",
   "execution_count": 47,
   "metadata": {},
   "outputs": [
    {
     "name": "stdout",
     "output_type": "stream",
     "text": [
      "[11, 17, 23]\n"
     ]
    }
   ],
   "source": [
    "def element_add(x, y):\n",
    "    z = []\n",
    "    for i in range(len(x)):\n",
    "        z.append(x[i] + y[i])\n",
    "    return z\n",
    "\n",
    "print(element_add(a,b))"
   ]
  },
  {
   "cell_type": "markdown",
   "metadata": {},
   "source": [
    "## Element-wise Addition (with List comprehension)"
   ]
  },
  {
   "cell_type": "code",
   "execution_count": 48,
   "metadata": {},
   "outputs": [
    {
     "name": "stdout",
     "output_type": "stream",
     "text": [
      "[11, 17, 23]\n"
     ]
    }
   ],
   "source": [
    "def element_add_ls(x,y):\n",
    "    z = [i+j for i,j in zip(x,y)]\n",
    "    return z\n",
    "\n",
    "print(element_add_ls(a,b))"
   ]
  },
  {
   "cell_type": "markdown",
   "metadata": {},
   "source": [
    "## Element-wise Mutiplication"
   ]
  },
  {
   "cell_type": "code",
   "execution_count": 56,
   "metadata": {},
   "outputs": [
    {
     "name": "stdout",
     "output_type": "stream",
     "text": [
      "[10, 30, 60]\n"
     ]
    }
   ],
   "source": [
    "def element_add(x, y):\n",
    "    z = []\n",
    "    for i in range(len(x)):\n",
    "        z.append(x[i] * y[i])\n",
    "    return z\n",
    "\n",
    "print(element_add(a,b))"
   ]
  },
  {
   "cell_type": "markdown",
   "metadata": {},
   "source": [
    "## Element-wise Multiplication (with list Comprehension)"
   ]
  },
  {
   "cell_type": "code",
   "execution_count": 53,
   "metadata": {},
   "outputs": [
    {
     "name": "stdout",
     "output_type": "stream",
     "text": [
      "[10, 30, 60]\n"
     ]
    }
   ],
   "source": [
    "def element_add_ls(x,y):\n",
    "    z = [i*j for i,j in zip(x,y)]\n",
    "    return z\n",
    "\n",
    "print(element_add_ls(a,b))"
   ]
  },
  {
   "cell_type": "markdown",
   "metadata": {},
   "source": [
    "## Maximum element of a list"
   ]
  },
  {
   "cell_type": "code",
   "execution_count": 49,
   "metadata": {},
   "outputs": [
    {
     "name": "stdout",
     "output_type": "stream",
     "text": [
      "567\n"
     ]
    }
   ],
   "source": [
    "def maximum(x):\n",
    "    max = x[0]\n",
    "    for i in range(len(x)):\n",
    "        if max < x[i]:\n",
    "            max = x[i]\n",
    "    return max\n",
    "            \n",
    "print(maximum(c))"
   ]
  },
  {
   "cell_type": "markdown",
   "metadata": {},
   "source": [
    "## Summation (with List Comprehenstion)"
   ]
  },
  {
   "cell_type": "code",
   "execution_count": 59,
   "metadata": {},
   "outputs": [
    {
     "name": "stdout",
     "output_type": "stream",
     "text": [
      "100\n"
     ]
    }
   ],
   "source": [
    "def summation(x, y):\n",
    "    num = [i*j for i,j in zip(x,y)]\n",
    "    q = element_add_ls(a,b)\n",
    "    return sum(q)\n",
    "\n",
    "print(summation(a, b))"
   ]
  },
  {
   "cell_type": "markdown",
   "metadata": {},
   "source": [
    "## Almost variance (with list comprehension)\n",
    "## Needed for linear regression"
   ]
  },
  {
   "cell_type": "code",
   "execution_count": 78,
   "metadata": {},
   "outputs": [
    {
     "name": "stdout",
     "output_type": "stream",
     "text": [
      "2.0\n"
     ]
    }
   ],
   "source": [
    "import numpy as np\n",
    "\n",
    "# mean of list a \n",
    "# subtract all elements from mean\n",
    "# square all elements\n",
    "# sum\n",
    "\n",
    "def test(x):   # not sure of name\n",
    "    xBar = np.mean(x)\n",
    "    num = [(xBar-i)**2 for i in x]\n",
    "    return sum(num)\n",
    "    \n",
    "print(test(a))"
   ]
  },
  {
   "cell_type": "markdown",
   "metadata": {},
   "source": [
    "## Working with scalars (with list comprehension)\n",
    "## Needed for Linear Regression"
   ]
  },
  {
   "cell_type": "code",
   "execution_count": 82,
   "metadata": {},
   "outputs": [
    {
     "name": "stdout",
     "output_type": "stream",
     "text": [
      "[5, 7, 9]\n"
     ]
    }
   ],
   "source": [
    "def f_mul_add(x, w1, w0):\n",
    "    return [w1*i+w0 for i in x]\n",
    "    \n",
    "    \n",
    "print(f_mul_add(a, 2, 3))"
   ]
  },
  {
   "cell_type": "code",
   "execution_count": null,
   "metadata": {},
   "outputs": [],
   "source": []
  }
 ],
 "metadata": {
  "kernelspec": {
   "display_name": "Python 3",
   "language": "python",
   "name": "python3"
  },
  "language_info": {
   "codemirror_mode": {
    "name": "ipython",
    "version": 3
   },
   "file_extension": ".py",
   "mimetype": "text/x-python",
   "name": "python",
   "nbconvert_exporter": "python",
   "pygments_lexer": "ipython3",
   "version": "3.7.4"
  }
 },
 "nbformat": 4,
 "nbformat_minor": 2
}
