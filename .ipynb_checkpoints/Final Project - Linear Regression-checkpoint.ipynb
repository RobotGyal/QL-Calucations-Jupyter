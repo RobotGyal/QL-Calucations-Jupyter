{
 "cells": [
  {
   "cell_type": "markdown",
   "metadata": {},
   "source": [
    "## Variables, Imports, and Setup"
   ]
  },
  {
   "cell_type": "code",
   "execution_count": 38,
   "metadata": {},
   "outputs": [
    {
     "data": {
      "text/plain": [
       "Text(0, 0.5, 'Water Drinks (Litre)')"
      ]
     },
     "execution_count": 38,
     "metadata": {},
     "output_type": "execute_result"
    },
    {
     "data": {
      "image/png": "[encoded data removed]",
      "text/plain": [
       "<Figure size 432x288 with 1 Axes>"
      ]
     },
     "metadata": {
      "needs_background": "light"
     },
     "output_type": "display_data"
    }
   ],
   "source": [
    "import numpy as np\n",
    "import matplotlib.pyplot as plt\n",
    "import random\n",
    "import seaborn as sns\n",
    "\n",
    "# Running Distance in Mile\n",
    "x = np.array([3.3,4.4,5.5,6.71,6.93,4.168,9.779,6.182,7.59,2.167,\n",
    "                         7.042,10.791,5.313,7.997,5.654,9.27,3.1])\n",
    "\n",
    "# Water Drinks in Litre\n",
    "y = np.array([1.7,2.76,2.09,3.19,1.694,1.573,3.366,2.596,2.53,1.221,\n",
    "                         2.827,3.465,1.65,2.904,2.42,2.94,1.3])\n",
    "\n",
    "x_bar = np.mean(x)\n",
    "y_bar = np.mean(y)\n",
    "xy_bar = np.mean(x*y)\n",
    "x_squared_bar = np.mean(x**2)\n",
    "x_bar_squared = (np.mean(x))**2\n",
    "\n",
    "\n",
    "plt.scatter(x, y)\n",
    "plt.xlabel('Running Distance (Mile)')\n",
    "plt.ylabel('Water Drinks (Litre)')"
   ]
  },
  {
   "cell_type": "markdown",
   "metadata": {},
   "source": [
    "# Question 1:\n",
    "## Obtain the MSE for the following two lines:\n",
    "1- y_pred[i] = 0.7*x[i] + 0.3\n",
    "\n",
    "2- y_pred[i] = 0.25163494*x[i] + 0.79880123\n",
    "\n",
    "\n",
    "\n",
    "$MSE = \\frac{1}{N} \\sum_{i=0}^{N-1} (y_{pred}[i] - y[i])^2$"
   ]
  },
  {
   "cell_type": "code",
   "execution_count": 4,
   "metadata": {},
   "outputs": [
    {
     "name": "stdout",
     "output_type": "stream",
     "text": [
      "#1 MSE via my calculations:  6.518593101764703\n",
      "#2 MSE via my calculations:  0.15385767404191164\n",
      "\n",
      "#1 MSE via Numpy:  6.518593101764704\n",
      "#2 MSE via Numpy:  0.15385767404191164\n"
     ]
    }
   ],
   "source": [
    "def min_sq_error(y, x, w1, w0):\n",
    "    y_pred = [w1*i+w0 for i in x]\n",
    "    sum_squared_error = sum((y_pred-y)**2)\n",
    "    N = len(y)\n",
    "    mse = sum_squared_error/N\n",
    "    return mse\n",
    "\n",
    "\n",
    "# Via my calculations\n",
    "print(\"#1 MSE via my calculations: \", min_sq_error(y, x, 0.7, 0.3))\n",
    "print(\"#2 MSE via my calculations: \", min_sq_error(y, x, 0.25163494, 0.79880123))\n",
    "\n",
    "# Verify via Numpy\n",
    "y_pred1 = [0.7*i+0.3 for i in x]\n",
    "y_pred2 = [0.25163494*i+0.79880123 for i in x]\n",
    "MSE1 = np.square(np.subtract(y,y_pred1)).mean() \n",
    "MSE2 = np.square(np.subtract(y,y_pred2)).mean() \n",
    "\n",
    "print(\"\\n#1 MSE via Numpy: \", MSE1)\n",
    "print(\"#2 MSE via Numpy: \", MSE2)\n"
   ]
  },
  {
   "cell_type": "markdown",
   "metadata": {},
   "source": [
    "# Question 2: Obtain the best line"
   ]
  },
  {
   "cell_type": "markdown",
   "metadata": {},
   "source": [
    "1- Compute:\n",
    "\n",
    "$\\frac{\\partial MSE}{\\partial w_1}$\n",
    "\n",
    "and\n",
    "\n",
    "$\\frac{\\partial MSE}{\\partial w_0}$\n",
    "\n",
    "2- then obtain $w_1$ and $w_0$ such that:\n",
    "\n",
    "$\\frac{\\partial MSE}{\\partial w_1} = 0$\n",
    "\n",
    "and\n",
    "\n",
    "$\\frac{\\partial MSE}{\\partial w_0} = 0$"
   ]
  },
  {
   "cell_type": "markdown",
   "metadata": {},
   "source": [
    "<img style=\"float:left;transform: rotate(90deg); width:100%; height:100%\" src=\"q2_1.jpg\" />\n",
    "\n",
    "<img style=\"float:left;transform: rotate(90deg); width:100%; height:100%\" src=\"q2_2.jpg\" />\n",
    "\n",
    "<img style=\"float:left;transform: rotate(90deg); width:100%; height:100%\" src=\"q2_3.jpg\" />\n"
   ]
  },
  {
   "cell_type": "markdown",
   "metadata": {},
   "source": [
    "# Question 3: Return the slope and intercept"
   ]
  },
  {
   "cell_type": "code",
   "execution_count": 13,
   "metadata": {},
   "outputs": [
    {
     "name": "stdout",
     "output_type": "stream",
     "text": [
      "(0.25163494428355315, 0.7988012261753947)\n"
     ]
    }
   ],
   "source": [
    "def slope_intercept_LR(x, y, step, epochs):\n",
    "    x_bar = np.mean(x)\n",
    "    y_bar = np.mean(y)\n",
    "    xy_bar = np.mean(x*y)\n",
    "    x_squared_bar = np.mean(x**2)\n",
    "    x_bar_squared = (np.mean(x))**2\n",
    "#     n=len(y)\n",
    "#     for i in range(epochs):\n",
    "#         y_pred = w1*x[i]+w0\n",
    "    w1 = (xy_bar - (x_bar * y_bar))/(x_squared_bar-x_bar_squared)\n",
    "    w0 = (-w1*x_bar)+y_bar\n",
    "    return w1, w0\n",
    "        \n",
    "\n",
    "print(slope_intercept_LR(x, y, 0.01, 5000))\n"
   ]
  },
  {
   "cell_type": "code",
   "execution_count": 53,
   "metadata": {},
   "outputs": [
    {
     "data": {
      "text/plain": [
       "[<matplotlib.lines.Line2D at 0x128917d90>]"
      ]
     },
     "execution_count": 53,
     "metadata": {},
     "output_type": "execute_result"
    },
    {
     "data": {
      "image/png": "[encoded data removed]",
      "text/plain": [
       "<Figure size 432x288 with 1 Axes>"
      ]
     },
     "metadata": {
      "needs_background": "light"
     },
     "output_type": "display_data"
    }
   ],
   "source": [
    "w1 = 0.25163494428355315\n",
    "w0 = 0.7988012261753947\n",
    "y_pred = w1*x+w0\n",
    "#My line of best fit\n",
    "plt.scatter(x, y)\n",
    "plt.xlabel('Running Distance (Mile)')\n",
    "plt.ylabel('Water Drinks (Litre)')\n",
    "plt.plot([min(x), max(x)], [min(y_pred), max(y_pred)], 'r')  # regression line\n"
   ]
  },
  {
   "cell_type": "markdown",
   "metadata": {},
   "source": [
    "## Verification"
   ]
  },
  {
   "cell_type": "code",
   "execution_count": 52,
   "metadata": {},
   "outputs": [
    {
     "data": {
      "text/plain": [
       "[<matplotlib.lines.Line2D at 0x128917f90>]"
      ]
     },
     "execution_count": 52,
     "metadata": {},
     "output_type": "execute_result"
    },
    {
     "data": {
      "image/png": "[encoded data removed]",
      "text/plain": [
       "<Figure size 432x288 with 1 Axes>"
      ]
     },
     "metadata": {
      "needs_background": "light"
     },
     "output_type": "display_data"
    }
   ],
   "source": [
    "# VERIFICATION\n",
    "w1 = 0.25163494428355315\n",
    "w0 = 0.7988012261753947\n",
    "y_pred = w1*x+w0\n",
    "\n",
    "plt.scatter(x, y)\n",
    "plt.xlabel('Running Distance (Mile)')\n",
    "plt.ylabel('Water Drinks (Litre)')\n",
    "\n",
    "# Actual line of best fit using built in functionality\n",
    "plt.plot(np.unique(x), np.poly1d(np.polyfit(x, y, 1))(np.unique(x)), 'g--')"
   ]
  },
  {
   "cell_type": "markdown",
   "metadata": {},
   "source": [
    "# Question 4: Obtain the variance and mean of error"
   ]
  },
  {
   "cell_type": "code",
   "execution_count": 50,
   "metadata": {},
   "outputs": [
    {
     "name": "stdout",
     "output_type": "stream",
     "text": [
      "[0.32919654 0.60599498 0.88279342 1.1872717  1.24263139 0.54761567\n",
      " 1.95953935 1.05440845 1.40871045 0.04409415 1.2708145  2.21419391\n",
      " 0.83573769 1.51112588 0.9215452  1.83145716 0.27886955] \n",
      "\n",
      "0.3471050941241766\n",
      "1.0662352941176472\n"
     ]
    }
   ],
   "source": [
    "for i in range(len(y)):\n",
    "    e = y_pred - y[i]\n",
    "\n",
    "print(e, '\\n')\n",
    "\n",
    "print(np.var(e))\n",
    "print(np.mean(e))"
   ]
  },
  {
   "cell_type": "markdown",
   "metadata": {},
   "source": [
    "## Plot the distribution of the error for optimal line"
   ]
  },
  {
   "cell_type": "code",
   "execution_count": 51,
   "metadata": {},
   "outputs": [
    {
     "data": {
      "text/plain": [
       "Text(0, 0.5, 'Occurences')"
      ]
     },
     "execution_count": 51,
     "metadata": {},
     "output_type": "execute_result"
    },
    {
     "data": {
      "image/png": "[encoded data removed]",
      "text/plain": [
       "<Figure size 432x288 with 1 Axes>"
      ]
     },
     "metadata": {
      "needs_background": "light"
     },
     "output_type": "display_data"
    }
   ],
   "source": [
    "sns.distplot(e, hist=True, kde=True, bins=4)\n",
    "plt.xlabel('Error Value',fontsize=12)\n",
    "plt.ylabel('Occurences',fontsize=12)\n"
   ]
  },
  {
   "cell_type": "markdown",
   "metadata": {},
   "source": [
    "# Question 5: Update the slope and intercept through iteration"
   ]
  },
  {
   "cell_type": "code",
   "execution_count": 32,
   "metadata": {},
   "outputs": [
    {
     "name": "stdout",
     "output_type": "stream",
     "text": [
      "0.37987402377872365\n",
      "2.4748281764496705\n"
     ]
    }
   ],
   "source": [
    "import numpy as np\n",
    "\n",
    "w_0 = np.random.randn()\n",
    "w_1 = np.random.randn()\n",
    "step = 0.01\n",
    "epoch = 5000\n",
    "y_pred = w_1*x+w_0\n",
    "for _ in range(epoch):\n",
    "    w_1 = w_1 - step*((w_1* x_squared_bar) + (w_0*x_bar)-(2*xy_bar)) #w1 * step * partial derivative\n",
    "    w_0 = w_0 - step*((-w_1*x_bar) + y_bar) #w0 * step * partial derivative\n",
    "print(w_1)\n",
    "print(w_0)"
   ]
  },
  {
   "cell_type": "code",
   "execution_count": null,
   "metadata": {},
   "outputs": [],
   "source": []
  },
  {
   "cell_type": "code",
   "execution_count": null,
   "metadata": {},
   "outputs": [],
   "source": []
  }
 ],
 "metadata": {
  "kernelspec": {
   "display_name": "Python 3",
   "language": "python",
   "name": "python3"
  },
  "language_info": {
   "codemirror_mode": {
    "name": "ipython",
    "version": 3
   },
   "file_extension": ".py",
   "mimetype": "text/x-python",
   "name": "python",
   "nbconvert_exporter": "python",
   "pygments_lexer": "ipython3",
   "version": "3.7.4"
  }
 },
 "nbformat": 4,
 "nbformat_minor": 2
}
