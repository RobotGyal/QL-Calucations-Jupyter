{
 "cells": [
  {
   "cell_type": "markdown",
   "metadata": {},
   "source": [
    "# Homework 1 - Covariance Matrix"
   ]
  },
  {
   "cell_type": "markdown",
   "metadata": {},
   "source": [
    "## Steps\n",
    "* Get / Make a dataset to test √\n",
    "* Be able to pull all values and put into their own variable √\n",
    "* Write formula to find mean, sum, variance, and covariance\n",
    "* Calculate and store diffrerent covariances\n",
    "* Figure how to put in a matrix"
   ]
  },
  {
   "cell_type": "code",
   "execution_count": 2,
   "metadata": {},
   "outputs": [],
   "source": [
    "import numpy as np\n",
    "\n",
    "dataset = np.array([(1, 1, 1), (2, 2, 1), (3, 1, 1), (4, 1, 2)])"
   ]
  },
  {
   "cell_type": "markdown",
   "metadata": {},
   "source": [
    "## Data"
   ]
  },
  {
   "cell_type": "code",
   "execution_count": 11,
   "metadata": {},
   "outputs": [
    {
     "name": "stdout",
     "output_type": "stream",
     "text": [
      "Dataset: \n",
      " [[1 1 1]\n",
      " [2 2 1]\n",
      " [3 1 1]\n",
      " [4 1 2]]\n",
      "\n",
      "Columns from matrix:\n",
      "X: [1 2 3 4]\n",
      "Y: [1 2 1 1]\n",
      "Z: [1 1 1 2]\n"
     ]
    }
   ],
   "source": [
    "# Getting entire row of coordinates from matrix\n",
    "X = dataset[:,0]\n",
    "Y = dataset[:,1]\n",
    "Z = dataset[:,2]\n",
    "\n",
    "\n",
    "print(\"Dataset: \\n\", dataset)\n",
    "print(\"\\nColumns from matrix:\")\n",
    "print(\"X:\", X)\n",
    "print(\"Y:\", Y)\n",
    "print(\"Z:\", Z)"
   ]
  },
  {
   "cell_type": "markdown",
   "metadata": {},
   "source": [
    "## Formulas"
   ]
  },
  {
   "cell_type": "code",
   "execution_count": 16,
   "metadata": {},
   "outputs": [
    {
     "name": "stdout",
     "output_type": "stream",
     "text": [
      "1.6666666666666667\n",
      "20\n",
      "2.5\n",
      "10\n",
      "1.25\n",
      "5\n",
      "1.25\n",
      "5\n"
     ]
    }
   ],
   "source": [
    "# Mean\n",
    "def compute_mean(dataset):\n",
    "    \"\"\" Main function that calculates the average value across our data. \"\"\"\n",
    "    mean = np.mean(dataset)\n",
    "    return mean\n",
    "\n",
    "# Sum\n",
    "def compute_sum(dataset):\n",
    "    sum = np.sum(dataset)\n",
    "    return sum\n",
    "\n",
    "# Variance\n",
    "\n",
    "\n",
    "# Covariance\n",
    "\n",
    "\n",
    "print(compute_mean(dataset))\n",
    "print(compute_sum(dataset))\n",
    "\n",
    "print(compute_mean(X))\n",
    "print(compute_sum(X))\n",
    "\n",
    "print(compute_mean(Y))\n",
    "print(compute_sum(Y))\n",
    "\n",
    "print(compute_mean(Z))\n",
    "print(compute_sum(Z))"
   ]
  },
  {
   "cell_type": "markdown",
   "metadata": {},
   "source": [
    "## Calculations"
   ]
  },
  {
   "cell_type": "code",
   "execution_count": null,
   "metadata": {},
   "outputs": [],
   "source": [
    "# Finding all means\n",
    "\n",
    "# Finding "
   ]
  }
 ],
 "metadata": {
  "kernelspec": {
   "display_name": "Python 3",
   "language": "python",
   "name": "python3"
  },
  "language_info": {
   "codemirror_mode": {
    "name": "ipython",
    "version": 3
   },
   "file_extension": ".py",
   "mimetype": "text/x-python",
   "name": "python",
   "nbconvert_exporter": "python",
   "pygments_lexer": "ipython3",
   "version": "3.7.4"
  }
 },
 "nbformat": 4,
 "nbformat_minor": 2
}
