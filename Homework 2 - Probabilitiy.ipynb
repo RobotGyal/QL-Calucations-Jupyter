{
 "cells": [
  {
   "cell_type": "markdown",
   "metadata": {},
   "source": [
    "# Probability"
   ]
  },
  {
   "cell_type": "markdown",
   "metadata": {},
   "source": [
    "## Part 1"
   ]
  },
  {
   "cell_type": "markdown",
   "metadata": {},
   "source": [
    "![Image](QL-HW-2-Probablility-Calculations.jpg)"
   ]
  },
  {
   "cell_type": "markdown",
   "metadata": {},
   "source": [
    "## Part 2"
   ]
  },
  {
   "cell_type": "code",
   "execution_count": 1,
   "metadata": {},
   "outputs": [
    {
     "name": "stdout",
     "output_type": "stream",
     "text": [
      "Probability manually (slightly changes +-2):  37.1\n",
      "Probability with formula:  37.5\n"
     ]
    }
   ],
   "source": [
    "from random import choices\n",
    "\n",
    "# def trial(toss, pass_test):\n",
    "#         if toss == ['H', 'H', 'T']:\n",
    "#             pass_test.append(toss)\n",
    "#         elif toss == ['H', 'T', 'H']:\n",
    "#             pass_test.append(toss)\n",
    "#         elif toss == ['T', 'H', 'H']:\n",
    "#             pass_test.append(toss)\n",
    "            \n",
    "# def compute_prob(prob_head, num_flips):\n",
    "#     choice = ['H', 'T']\n",
    "#     count = []\n",
    "    \n",
    "#     for i in range(1, num_flips+1):\n",
    "#         for i in range(0,3):\n",
    "#             flip = choices(choice)\n",
    "#         trial(flip, count)\n",
    "#     return len(count)/num_flips\n",
    "\n",
    "\n",
    "\n",
    "# test.count('H')==2 and test.count('T')==1\n",
    "# test == ['H', 'H', 'T'] or test == ['H', 'T', 'H'] or test == ['T', 'H', 'H']\n",
    "\n",
    "\n",
    "def compute_prob(prob_head, num_flips):  # a = prob head\n",
    "    flip = ['H', 'T']\n",
    "    test = []\n",
    "    success = 0\n",
    "    probs = [prob_head, 1-prob_head]\n",
    "    for _ in range(0, num_flips):\n",
    "        for i in range(0,3):\n",
    "            test.append(choices(flip, probs))\n",
    "        if test.count(['H'])==2 and test.count(['T'])==1:\n",
    "            success+=1\n",
    "        test = []\n",
    "    return success/num_flips *100\n",
    "\n",
    "\n",
    "\n",
    "def compute_prob_formula(prob_head2):\n",
    "    trial = ((prob_head2**2) * (1-prob_head2))*3\n",
    "    return trial * 100\n",
    "\n",
    "print(\"Probability manually (slightly changes +-2): \", compute_prob(0.50, 1000))\n",
    "print(\"Probability with formula: \", compute_prob_formula(0.50))"
   ]
  },
  {
   "cell_type": "code",
   "execution_count": null,
   "metadata": {},
   "outputs": [],
   "source": []
  },
  {
   "cell_type": "code",
   "execution_count": null,
   "metadata": {},
   "outputs": [],
   "source": []
  }
 ],
 "metadata": {
  "kernelspec": {
   "display_name": "Python 3",
   "language": "python",
   "name": "python3"
  },
  "language_info": {
   "codemirror_mode": {
    "name": "ipython",
    "version": 3
   },
   "file_extension": ".py",
   "mimetype": "text/x-python",
   "name": "python",
   "nbconvert_exporter": "python",
   "pygments_lexer": "ipython3",
   "version": "3.7.4"
  }
 },
 "nbformat": 4,
 "nbformat_minor": 2
}
